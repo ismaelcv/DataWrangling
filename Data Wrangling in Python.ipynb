{
 "cells": [
  {
   "cell_type": "markdown",
   "metadata": {},
   "source": [
    "# Data wrangling in Python"
   ]
  },
  {
   "cell_type": "markdown",
   "metadata": {},
   "source": [
    "## 1 Seting up the dataframe\n",
    "A dataframe will be set up following the following structure:"
   ]
  },
  {
   "cell_type": "code",
   "execution_count": null,
   "metadata": {
    "collapsed": true
   },
   "outputs": [],
   "source": [
    "#Do not run\n",
    "Name  Team  Country  POP   GDP   AOE\n",
    "John   B      NIC      8    22   True\n",
    "Lara   A      GBP     50    34   False\n",
    "Matt   C      MEX    110    53   True\n",
    "Loes   A      CAN      9    35   False \n",
    "Irit   B      FRA     60    36   True\n",
    "Adam   A      CHI    999    36   False\n",
    "Paco   C      SLV      4    62   True\n",
    "Pete   B      NED     17    36   True\n",
    "Joao   C      UGA     40    65   False"
   ]
  },
  {
   "cell_type": "markdown",
   "metadata": {},
   "source": [
    "### 0.1 Create a dataframe by row"
   ]
  },
  {
   "cell_type": "code",
   "execution_count": 28,
   "metadata": {
    "collapsed": false
   },
   "outputs": [
    {
     "data": {
      "text/html": [
       "<div>\n",
       "<style>\n",
       "    .dataframe thead tr:only-child th {\n",
       "        text-align: right;\n",
       "    }\n",
       "\n",
       "    .dataframe thead th {\n",
       "        text-align: left;\n",
       "    }\n",
       "\n",
       "    .dataframe tbody tr th {\n",
       "        vertical-align: top;\n",
       "    }\n",
       "</style>\n",
       "<table border=\"1\" class=\"dataframe\">\n",
       "  <thead>\n",
       "    <tr style=\"text-align: right;\">\n",
       "      <th></th>\n",
       "      <th>Team</th>\n",
       "      <th>Country</th>\n",
       "      <th>POP</th>\n",
       "      <th>GDP</th>\n",
       "      <th>AOE</th>\n",
       "    </tr>\n",
       "  </thead>\n",
       "  <tbody>\n",
       "    <tr>\n",
       "      <th>John</th>\n",
       "      <td>B</td>\n",
       "      <td>NIC</td>\n",
       "      <td>8</td>\n",
       "      <td>22</td>\n",
       "      <td>True</td>\n",
       "    </tr>\n",
       "    <tr>\n",
       "      <th>Lara</th>\n",
       "      <td>A</td>\n",
       "      <td>GBP</td>\n",
       "      <td>50</td>\n",
       "      <td>34</td>\n",
       "      <td>False</td>\n",
       "    </tr>\n",
       "    <tr>\n",
       "      <th>Matt</th>\n",
       "      <td>C</td>\n",
       "      <td>MEX</td>\n",
       "      <td>110</td>\n",
       "      <td>53</td>\n",
       "      <td>True</td>\n",
       "    </tr>\n",
       "    <tr>\n",
       "      <th>Loes</th>\n",
       "      <td>A</td>\n",
       "      <td>CAN</td>\n",
       "      <td>9</td>\n",
       "      <td>35</td>\n",
       "      <td>True</td>\n",
       "    </tr>\n",
       "    <tr>\n",
       "      <th>Joao</th>\n",
       "      <td>B</td>\n",
       "      <td>FRA</td>\n",
       "      <td>60</td>\n",
       "      <td>36</td>\n",
       "      <td>False</td>\n",
       "    </tr>\n",
       "    <tr>\n",
       "      <th>Adam</th>\n",
       "      <td>A</td>\n",
       "      <td>CHI</td>\n",
       "      <td>999</td>\n",
       "      <td>44</td>\n",
       "      <td>False</td>\n",
       "    </tr>\n",
       "  </tbody>\n",
       "</table>\n",
       "</div>"
      ],
      "text/plain": [
       "     Team Country  POP GDP    AOE\n",
       "John    B     NIC    8  22   True\n",
       "Lara    A     GBP   50  34  False\n",
       "Matt    C     MEX  110  53   True\n",
       "Loes    A     CAN    9  35   True\n",
       "Joao    B     FRA   60  36  False\n",
       "Adam    A     CHI  999  44  False"
      ]
     },
     "execution_count": 28,
     "metadata": {},
     "output_type": "execute_result"
    }
   ],
   "source": [
    "import pandas as pd\n",
    "\n",
    "df = pd.DataFrame(columns=['Team','Country','POP','GDP','AOE'], index=['John','Lara','Matt','Loes','Joao','Adam'])\n",
    "df.loc['John'] = pd.Series({'Team':'B','Country':'NIC','POP':   8,'GDP': 22,'AOE':True})\n",
    "df.loc['Lara'] = pd.Series({'Team':'A','Country':'GBP','POP':  50,'GDP': 34,'AOE':False})\n",
    "df.loc['Matt'] = pd.Series({'Team':'C','Country':'MEX','POP': 110,'GDP': 53,'AOE':True})\n",
    "df.loc['Loes'] = pd.Series({'Team':'A','Country':'CAN','POP':   9,'GDP': 35,'AOE':True})\n",
    "df.loc['Joao'] = pd.Series({'Team':'B','Country':'FRA','POP':  60,'GDP': 36,'AOE':False})\n",
    "df.loc['Adam'] = pd.Series({'Team':'A','Country':'CHI','POP': 999,'GDP': 44,'AOE':False})\n",
    "\n",
    "df"
   ]
  },
  {
   "cell_type": "markdown",
   "metadata": {},
   "source": [
    "### 0.2 Create a dataframe by column"
   ]
  },
  {
   "cell_type": "code",
   "execution_count": 59,
   "metadata": {
    "collapsed": false
   },
   "outputs": [
    {
     "data": {
      "text/html": [
       "<div>\n",
       "<style>\n",
       "    .dataframe thead tr:only-child th {\n",
       "        text-align: right;\n",
       "    }\n",
       "\n",
       "    .dataframe thead th {\n",
       "        text-align: left;\n",
       "    }\n",
       "\n",
       "    .dataframe tbody tr th {\n",
       "        vertical-align: top;\n",
       "    }\n",
       "</style>\n",
       "<table border=\"1\" class=\"dataframe\">\n",
       "  <thead>\n",
       "    <tr style=\"text-align: right;\">\n",
       "      <th></th>\n",
       "      <th>Team</th>\n",
       "      <th>Country</th>\n",
       "      <th>POP</th>\n",
       "      <th>GDP</th>\n",
       "      <th>AOE</th>\n",
       "    </tr>\n",
       "  </thead>\n",
       "  <tbody>\n",
       "    <tr>\n",
       "      <th>John</th>\n",
       "      <td>B</td>\n",
       "      <td>NIC</td>\n",
       "      <td>8</td>\n",
       "      <td>22</td>\n",
       "      <td>True</td>\n",
       "    </tr>\n",
       "    <tr>\n",
       "      <th>Lara</th>\n",
       "      <td>A</td>\n",
       "      <td>GBP</td>\n",
       "      <td>50</td>\n",
       "      <td>34</td>\n",
       "      <td>False</td>\n",
       "    </tr>\n",
       "    <tr>\n",
       "      <th>Matt</th>\n",
       "      <td>C</td>\n",
       "      <td>MEX</td>\n",
       "      <td>110</td>\n",
       "      <td>53</td>\n",
       "      <td>True</td>\n",
       "    </tr>\n",
       "    <tr>\n",
       "      <th>Loes</th>\n",
       "      <td>A</td>\n",
       "      <td>CAN</td>\n",
       "      <td>9</td>\n",
       "      <td>35</td>\n",
       "      <td>True</td>\n",
       "    </tr>\n",
       "    <tr>\n",
       "      <th>Joao</th>\n",
       "      <td>B</td>\n",
       "      <td>FRA</td>\n",
       "      <td>60</td>\n",
       "      <td>36</td>\n",
       "      <td>False</td>\n",
       "    </tr>\n",
       "    <tr>\n",
       "      <th>Adam</th>\n",
       "      <td>A</td>\n",
       "      <td>CHI</td>\n",
       "      <td>999</td>\n",
       "      <td>44</td>\n",
       "      <td>False</td>\n",
       "    </tr>\n",
       "  </tbody>\n",
       "</table>\n",
       "</div>"
      ],
      "text/plain": [
       "     Team Country  POP  GDP    AOE\n",
       "John    B     NIC    8   22   True\n",
       "Lara    A     GBP   50   34  False\n",
       "Matt    C     MEX  110   53   True\n",
       "Loes    A     CAN    9   35   True\n",
       "Joao    B     FRA   60   36  False\n",
       "Adam    A     CHI  999   44  False"
      ]
     },
     "execution_count": 59,
     "metadata": {},
     "output_type": "execute_result"
    }
   ],
   "source": [
    "import pandas as pd\n",
    "\n",
    "df = pd.DataFrame(columns=['Team','Country','POP','GDP','AOE'], index=['John','Lara','Matt','Loes','Joao','Adam'])\n",
    "df['Team'] = pd.Series({'John':'B','Lara':'A','Matt': 'C','Loes': 'A','Joao':'B', 'Adam':'A' })\n",
    "df['Country'] = pd.Series({'John':'NIC','Lara':'GBP','Matt': 'MEX','Loes': 'CAN','Joao':'FRA', 'Adam':'CHI' })\n",
    "df['POP'] = pd.Series({'John':8,'Lara':50,'Matt':110 ,'Loes':9 ,'Joao':60, 'Adam':999 })\n",
    "df['GDP'] = pd.Series({'John':22,'Lara':34,'Matt':53 ,'Loes':35 ,'Joao':36, 'Adam':44 })\n",
    "df['AOE'] = pd.Series({'John':True,'Lara':False,'Matt':True ,'Loes':True ,'Joao':False, 'Adam':False })\n",
    "\n",
    "df\n"
   ]
  },
  {
   "cell_type": "markdown",
   "metadata": {},
   "source": [
    "### 0.3 Modify column header"
   ]
  },
  {
   "cell_type": "code",
   "execution_count": 61,
   "metadata": {
    "collapsed": false
   },
   "outputs": [
    {
     "data": {
      "text/html": [
       "<div>\n",
       "<style>\n",
       "    .dataframe thead tr:only-child th {\n",
       "        text-align: right;\n",
       "    }\n",
       "\n",
       "    .dataframe thead th {\n",
       "        text-align: left;\n",
       "    }\n",
       "\n",
       "    .dataframe tbody tr th {\n",
       "        vertical-align: top;\n",
       "    }\n",
       "</style>\n",
       "<table border=\"1\" class=\"dataframe\">\n",
       "  <thead>\n",
       "    <tr style=\"text-align: right;\">\n",
       "      <th></th>\n",
       "      <th>Team</th>\n",
       "      <th>Country</th>\n",
       "      <th>Pop</th>\n",
       "      <th>GDP</th>\n",
       "      <th>AOE</th>\n",
       "    </tr>\n",
       "  </thead>\n",
       "  <tbody>\n",
       "    <tr>\n",
       "      <th>John</th>\n",
       "      <td>B</td>\n",
       "      <td>NIC</td>\n",
       "      <td>8</td>\n",
       "      <td>22</td>\n",
       "      <td>True</td>\n",
       "    </tr>\n",
       "    <tr>\n",
       "      <th>Lara</th>\n",
       "      <td>A</td>\n",
       "      <td>GBP</td>\n",
       "      <td>50</td>\n",
       "      <td>34</td>\n",
       "      <td>False</td>\n",
       "    </tr>\n",
       "    <tr>\n",
       "      <th>Matt</th>\n",
       "      <td>C</td>\n",
       "      <td>MEX</td>\n",
       "      <td>110</td>\n",
       "      <td>53</td>\n",
       "      <td>True</td>\n",
       "    </tr>\n",
       "    <tr>\n",
       "      <th>Loes</th>\n",
       "      <td>A</td>\n",
       "      <td>CAN</td>\n",
       "      <td>9</td>\n",
       "      <td>35</td>\n",
       "      <td>True</td>\n",
       "    </tr>\n",
       "    <tr>\n",
       "      <th>Joao</th>\n",
       "      <td>B</td>\n",
       "      <td>FRA</td>\n",
       "      <td>60</td>\n",
       "      <td>36</td>\n",
       "      <td>False</td>\n",
       "    </tr>\n",
       "    <tr>\n",
       "      <th>Adam</th>\n",
       "      <td>A</td>\n",
       "      <td>CHI</td>\n",
       "      <td>999</td>\n",
       "      <td>44</td>\n",
       "      <td>False</td>\n",
       "    </tr>\n",
       "  </tbody>\n",
       "</table>\n",
       "</div>"
      ],
      "text/plain": [
       "     Team Country  Pop  GDP    AOE\n",
       "John    B     NIC    8   22   True\n",
       "Lara    A     GBP   50   34  False\n",
       "Matt    C     MEX  110   53   True\n",
       "Loes    A     CAN    9   35   True\n",
       "Joao    B     FRA   60   36  False\n",
       "Adam    A     CHI  999   44  False"
      ]
     },
     "execution_count": 61,
     "metadata": {},
     "output_type": "execute_result"
    }
   ],
   "source": [
    "df.rename(columns={'POP': 'Pop'})"
   ]
  },
  {
   "cell_type": "markdown",
   "metadata": {},
   "source": [
    "### 0.4 Modify row index"
   ]
  },
  {
   "cell_type": "code",
   "execution_count": 147,
   "metadata": {
    "collapsed": false
   },
   "outputs": [
    {
     "data": {
      "text/html": [
       "<div>\n",
       "<style>\n",
       "    .dataframe thead tr:only-child th {\n",
       "        text-align: right;\n",
       "    }\n",
       "\n",
       "    .dataframe thead th {\n",
       "        text-align: left;\n",
       "    }\n",
       "\n",
       "    .dataframe tbody tr th {\n",
       "        vertical-align: top;\n",
       "    }\n",
       "</style>\n",
       "<table border=\"1\" class=\"dataframe\">\n",
       "  <thead>\n",
       "    <tr style=\"text-align: right;\">\n",
       "      <th></th>\n",
       "      <th>Team</th>\n",
       "      <th>Country</th>\n",
       "      <th>POP</th>\n",
       "      <th>GDP</th>\n",
       "      <th>AOE</th>\n",
       "    </tr>\n",
       "  </thead>\n",
       "  <tbody>\n",
       "    <tr>\n",
       "      <th>John</th>\n",
       "      <td>B</td>\n",
       "      <td>NIC</td>\n",
       "      <td>8</td>\n",
       "      <td>22</td>\n",
       "      <td>True</td>\n",
       "    </tr>\n",
       "    <tr>\n",
       "      <th>Lara</th>\n",
       "      <td>A</td>\n",
       "      <td>GBP</td>\n",
       "      <td>50</td>\n",
       "      <td>34</td>\n",
       "      <td>False</td>\n",
       "    </tr>\n",
       "    <tr>\n",
       "      <th>Matt</th>\n",
       "      <td>C</td>\n",
       "      <td>MEX</td>\n",
       "      <td>110</td>\n",
       "      <td>53</td>\n",
       "      <td>True</td>\n",
       "    </tr>\n",
       "    <tr>\n",
       "      <th>Loes</th>\n",
       "      <td>A</td>\n",
       "      <td>CAN</td>\n",
       "      <td>9</td>\n",
       "      <td>35</td>\n",
       "      <td>True</td>\n",
       "    </tr>\n",
       "    <tr>\n",
       "      <th>João</th>\n",
       "      <td>B</td>\n",
       "      <td>FRA</td>\n",
       "      <td>60</td>\n",
       "      <td>36</td>\n",
       "      <td>False</td>\n",
       "    </tr>\n",
       "    <tr>\n",
       "      <th>Adam</th>\n",
       "      <td>A</td>\n",
       "      <td>CHI</td>\n",
       "      <td>999</td>\n",
       "      <td>44</td>\n",
       "      <td>False</td>\n",
       "    </tr>\n",
       "  </tbody>\n",
       "</table>\n",
       "</div>"
      ],
      "text/plain": [
       "     Team Country  POP  GDP    AOE\n",
       "John    B     NIC    8   22   True\n",
       "Lara    A     GBP   50   34  False\n",
       "Matt    C     MEX  110   53   True\n",
       "Loes    A     CAN    9   35   True\n",
       "João    B     FRA   60   36  False\n",
       "Adam    A     CHI  999   44  False"
      ]
     },
     "execution_count": 147,
     "metadata": {},
     "output_type": "execute_result"
    }
   ],
   "source": [
    "df.rename(index={'Joao':'João'})\n"
   ]
  },
  {
   "cell_type": "markdown",
   "metadata": {},
   "source": [
    "\n",
    "\n"
   ]
  },
  {
   "cell_type": "markdown",
   "metadata": {},
   "source": [
    "## 1. Subseting dataframes"
   ]
  },
  {
   "cell_type": "markdown",
   "metadata": {},
   "source": [
    "### 1.1 Subseting rows by name/index"
   ]
  },
  {
   "cell_type": "code",
   "execution_count": 123,
   "metadata": {
    "collapsed": false
   },
   "outputs": [
    {
     "data": {
      "text/html": [
       "<div>\n",
       "<style>\n",
       "    .dataframe thead tr:only-child th {\n",
       "        text-align: right;\n",
       "    }\n",
       "\n",
       "    .dataframe thead th {\n",
       "        text-align: left;\n",
       "    }\n",
       "\n",
       "    .dataframe tbody tr th {\n",
       "        vertical-align: top;\n",
       "    }\n",
       "</style>\n",
       "<table border=\"1\" class=\"dataframe\">\n",
       "  <thead>\n",
       "    <tr style=\"text-align: right;\">\n",
       "      <th></th>\n",
       "      <th>Team</th>\n",
       "      <th>Country</th>\n",
       "      <th>POP</th>\n",
       "      <th>GDP</th>\n",
       "      <th>AOE</th>\n",
       "    </tr>\n",
       "  </thead>\n",
       "  <tbody>\n",
       "    <tr>\n",
       "      <th>Lara</th>\n",
       "      <td>A</td>\n",
       "      <td>GBP</td>\n",
       "      <td>50</td>\n",
       "      <td>34</td>\n",
       "      <td>False</td>\n",
       "    </tr>\n",
       "    <tr>\n",
       "      <th>Matt</th>\n",
       "      <td>C</td>\n",
       "      <td>MEX</td>\n",
       "      <td>110</td>\n",
       "      <td>53</td>\n",
       "      <td>True</td>\n",
       "    </tr>\n",
       "    <tr>\n",
       "      <th>Loes</th>\n",
       "      <td>A</td>\n",
       "      <td>CAN</td>\n",
       "      <td>9</td>\n",
       "      <td>35</td>\n",
       "      <td>True</td>\n",
       "    </tr>\n",
       "  </tbody>\n",
       "</table>\n",
       "</div>"
      ],
      "text/plain": [
       "     Team Country  POP  GDP    AOE\n",
       "Lara    A     GBP   50   34  False\n",
       "Matt    C     MEX  110   53   True\n",
       "Loes    A     CAN    9   35   True"
      ]
     },
     "execution_count": 123,
     "metadata": {},
     "output_type": "execute_result"
    }
   ],
   "source": [
    "df.loc['Lara':'Loes']\n",
    "df.iloc[1:4]\n",
    "# returns a dataframe object when subseting a range of rows\n",
    "# returns a series object when subseting a single row"
   ]
  },
  {
   "cell_type": "markdown",
   "metadata": {},
   "source": [
    "### 1.2 Subseting columns by name, index"
   ]
  },
  {
   "cell_type": "code",
   "execution_count": 146,
   "metadata": {
    "collapsed": false,
    "scrolled": true
   },
   "outputs": [
    {
     "data": {
      "text/html": [
       "<div>\n",
       "<style>\n",
       "    .dataframe thead tr:only-child th {\n",
       "        text-align: right;\n",
       "    }\n",
       "\n",
       "    .dataframe thead th {\n",
       "        text-align: left;\n",
       "    }\n",
       "\n",
       "    .dataframe tbody tr th {\n",
       "        vertical-align: top;\n",
       "    }\n",
       "</style>\n",
       "<table border=\"1\" class=\"dataframe\">\n",
       "  <thead>\n",
       "    <tr style=\"text-align: right;\">\n",
       "      <th></th>\n",
       "      <th>Country</th>\n",
       "      <th>POP</th>\n",
       "      <th>GDP</th>\n",
       "    </tr>\n",
       "  </thead>\n",
       "  <tbody>\n",
       "    <tr>\n",
       "      <th>John</th>\n",
       "      <td>NIC</td>\n",
       "      <td>8</td>\n",
       "      <td>22</td>\n",
       "    </tr>\n",
       "    <tr>\n",
       "      <th>Lara</th>\n",
       "      <td>GBP</td>\n",
       "      <td>50</td>\n",
       "      <td>34</td>\n",
       "    </tr>\n",
       "    <tr>\n",
       "      <th>Matt</th>\n",
       "      <td>MEX</td>\n",
       "      <td>110</td>\n",
       "      <td>53</td>\n",
       "    </tr>\n",
       "    <tr>\n",
       "      <th>Loes</th>\n",
       "      <td>CAN</td>\n",
       "      <td>9</td>\n",
       "      <td>35</td>\n",
       "    </tr>\n",
       "    <tr>\n",
       "      <th>Joao</th>\n",
       "      <td>FRA</td>\n",
       "      <td>60</td>\n",
       "      <td>36</td>\n",
       "    </tr>\n",
       "    <tr>\n",
       "      <th>Adam</th>\n",
       "      <td>CHI</td>\n",
       "      <td>999</td>\n",
       "      <td>44</td>\n",
       "    </tr>\n",
       "  </tbody>\n",
       "</table>\n",
       "</div>"
      ],
      "text/plain": [
       "     Country  POP  GDP\n",
       "John     NIC    8   22\n",
       "Lara     GBP   50   34\n",
       "Matt     MEX  110   53\n",
       "Loes     CAN    9   35\n",
       "Joao     FRA   60   36\n",
       "Adam     CHI  999   44"
      ]
     },
     "execution_count": 146,
     "metadata": {},
     "output_type": "execute_result"
    }
   ],
   "source": [
    "#df.loc[:, ['Country','GDP']]\n",
    "df[df.columns[1:4]]\n",
    "df.loc[:, 'Country':'GDP']\n",
    "df.iloc[:, 1:4]\n",
    "# returns a dataframe object when subseting a range of rows\n",
    "# returns a series object when subseting a single row "
   ]
  },
  {
   "cell_type": "markdown",
   "metadata": {
    "collapsed": true
   },
   "source": [
    "### 1.3 Subseting ranges by name, index"
   ]
  },
  {
   "cell_type": "code",
   "execution_count": 145,
   "metadata": {
    "collapsed": false
   },
   "outputs": [
    {
     "data": {
      "text/html": [
       "<div>\n",
       "<style>\n",
       "    .dataframe thead tr:only-child th {\n",
       "        text-align: right;\n",
       "    }\n",
       "\n",
       "    .dataframe thead th {\n",
       "        text-align: left;\n",
       "    }\n",
       "\n",
       "    .dataframe tbody tr th {\n",
       "        vertical-align: top;\n",
       "    }\n",
       "</style>\n",
       "<table border=\"1\" class=\"dataframe\">\n",
       "  <thead>\n",
       "    <tr style=\"text-align: right;\">\n",
       "      <th></th>\n",
       "      <th>Country</th>\n",
       "      <th>POP</th>\n",
       "      <th>GDP</th>\n",
       "    </tr>\n",
       "  </thead>\n",
       "  <tbody>\n",
       "    <tr>\n",
       "      <th>Lara</th>\n",
       "      <td>GBP</td>\n",
       "      <td>50</td>\n",
       "      <td>34</td>\n",
       "    </tr>\n",
       "    <tr>\n",
       "      <th>Matt</th>\n",
       "      <td>MEX</td>\n",
       "      <td>110</td>\n",
       "      <td>53</td>\n",
       "    </tr>\n",
       "    <tr>\n",
       "      <th>Loes</th>\n",
       "      <td>CAN</td>\n",
       "      <td>9</td>\n",
       "      <td>35</td>\n",
       "    </tr>\n",
       "  </tbody>\n",
       "</table>\n",
       "</div>"
      ],
      "text/plain": [
       "     Country  POP  GDP\n",
       "Lara     GBP   50   34\n",
       "Matt     MEX  110   53\n",
       "Loes     CAN    9   35"
      ]
     },
     "execution_count": 145,
     "metadata": {},
     "output_type": "execute_result"
    }
   ],
   "source": [
    "df.loc['Lara':'Loes', 'Country':'GDP']\n",
    "df.iloc[1:4, 1:4]\n",
    "# returns a dataframe object "
   ]
  },
  {
   "cell_type": "markdown",
   "metadata": {
    "collapsed": false
   },
   "source": [
    "### 1.4 Subseting a single value by name, index"
   ]
  },
  {
   "cell_type": "code",
   "execution_count": 152,
   "metadata": {
    "collapsed": false
   },
   "outputs": [
    {
     "data": {
      "text/plain": [
       "53"
      ]
     },
     "execution_count": 152,
     "metadata": {},
     "output_type": "execute_result"
    }
   ],
   "source": [
    "df.iloc[2,3]\n",
    "df.loc['Matt','GDP']\n",
    "#Returns an integer"
   ]
  },
  {
   "cell_type": "code",
   "execution_count": null,
   "metadata": {
    "collapsed": true
   },
   "outputs": [],
   "source": []
  },
  {
   "cell_type": "code",
   "execution_count": null,
   "metadata": {
    "collapsed": true
   },
   "outputs": [],
   "source": []
  },
  {
   "cell_type": "code",
   "execution_count": null,
   "metadata": {
    "collapsed": true
   },
   "outputs": [],
   "source": []
  },
  {
   "cell_type": "code",
   "execution_count": null,
   "metadata": {
    "collapsed": true
   },
   "outputs": [],
   "source": []
  },
  {
   "cell_type": "code",
   "execution_count": null,
   "metadata": {
    "collapsed": true
   },
   "outputs": [],
   "source": []
  },
  {
   "cell_type": "code",
   "execution_count": null,
   "metadata": {
    "collapsed": true
   },
   "outputs": [],
   "source": []
  },
  {
   "cell_type": "code",
   "execution_count": 86,
   "metadata": {
    "collapsed": false
   },
   "outputs": [
    {
     "data": {
      "text/html": [
       "<div>\n",
       "<style>\n",
       "    .dataframe thead tr:only-child th {\n",
       "        text-align: right;\n",
       "    }\n",
       "\n",
       "    .dataframe thead th {\n",
       "        text-align: left;\n",
       "    }\n",
       "\n",
       "    .dataframe tbody tr th {\n",
       "        vertical-align: top;\n",
       "    }\n",
       "</style>\n",
       "<table border=\"1\" class=\"dataframe\">\n",
       "  <thead>\n",
       "    <tr style=\"text-align: right;\">\n",
       "      <th></th>\n",
       "      <th>Team</th>\n",
       "      <th>Country</th>\n",
       "      <th>POP</th>\n",
       "      <th>GDP</th>\n",
       "      <th>AOE</th>\n",
       "    </tr>\n",
       "  </thead>\n",
       "  <tbody>\n",
       "    <tr>\n",
       "      <th>Lara</th>\n",
       "      <td>A</td>\n",
       "      <td>GBP</td>\n",
       "      <td>50</td>\n",
       "      <td>34</td>\n",
       "      <td>False</td>\n",
       "    </tr>\n",
       "    <tr>\n",
       "      <th>Matt</th>\n",
       "      <td>C</td>\n",
       "      <td>MEX</td>\n",
       "      <td>110</td>\n",
       "      <td>53</td>\n",
       "      <td>True</td>\n",
       "    </tr>\n",
       "  </tbody>\n",
       "</table>\n",
       "</div>"
      ],
      "text/plain": [
       "     Team Country  POP  GDP    AOE\n",
       "Lara    A     GBP   50   34  False\n",
       "Matt    C     MEX  110   53   True"
      ]
     },
     "execution_count": 86,
     "metadata": {},
     "output_type": "execute_result"
    }
   ],
   "source": [
    "df[1:3]"
   ]
  },
  {
   "cell_type": "code",
   "execution_count": null,
   "metadata": {
    "collapsed": true
   },
   "outputs": [],
   "source": []
  }
 ],
 "metadata": {
  "kernelspec": {
   "display_name": "Python 3",
   "language": "python",
   "name": "python3"
  },
  "language_info": {
   "codemirror_mode": {
    "name": "ipython",
    "version": 3
   },
   "file_extension": ".py",
   "mimetype": "text/x-python",
   "name": "python",
   "nbconvert_exporter": "python",
   "pygments_lexer": "ipython3",
   "version": "3.6.0"
  }
 },
 "nbformat": 4,
 "nbformat_minor": 2
}
